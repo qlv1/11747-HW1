{
 "cells": [
  {
   "cell_type": "code",
   "execution_count": 1,
   "metadata": {},
   "outputs": [],
   "source": [
    "import numpy as np\n",
    "import pandas as pd\n"
   ]
  },
  {
   "cell_type": "code",
   "execution_count": 2,
   "metadata": {},
   "outputs": [],
   "source": [
    "file_loc = 'D:/Courses/11747/topicclass/'\n",
    "train_loc = file_loc + 'topicclass_train.txt'\n",
    "test_loc = file_loc + 'topicclass_test.txt'\n",
    "val_loc = file_loc + 'topicclass_valid.txt'\n"
   ]
  },
  {
   "cell_type": "code",
   "execution_count": 3,
   "metadata": {},
   "outputs": [],
   "source": [
    "def read_file(file_path):\n",
    "    f = open(file_path, 'r', encoding=\"utf8\")\n",
    "    label = []\n",
    "    text = []\n",
    "    for line in f:\n",
    "        content = line.split('|||')\n",
    "        label.append(content[0].strip(' '))\n",
    "        text.append(content[1].strip(' ').split(' '))\n",
    "    f.close()\n",
    "    return (label, text)\n"
   ]
  },
  {
   "cell_type": "code",
   "execution_count": 5,
   "metadata": {
    "scrolled": true
   },
   "outputs": [],
   "source": [
    "val_lab, val_text = read_file(val_loc)\n",
    "train_lab, train_text = read_file(train_loc)\n",
    "test_lab, test_text = read_file(test_loc)\n",
    "# print (val_lab)\n",
    "# print (val_text)\n"
   ]
  },
  {
   "cell_type": "code",
   "execution_count": 5,
   "metadata": {},
   "outputs": [
    {
     "name": "stdout",
     "output_type": "stream",
     "text": [
      "253909 643 697\n"
     ]
    }
   ],
   "source": [
    "print (len(train_lab), len(val_lab), len(test_lab))"
   ]
  },
  {
   "cell_type": "code",
   "execution_count": 6,
   "metadata": {},
   "outputs": [],
   "source": [
    "from gensim.models import Word2Vec\n",
    "n_dim = 50\n",
    "model = Word2Vec(train_text, min_count=1,size= n_dim,workers=8, window =3, sg = 1)"
   ]
  },
  {
   "cell_type": "code",
   "execution_count": 7,
   "metadata": {},
   "outputs": [
    {
     "name": "stdout",
     "output_type": "stream",
     "text": [
      "5.2894382\n",
      "4.002039\n",
      "7.4060664\n",
      "9.300909\n",
      "6.046254\n",
      "[0. 0. 0. 0. 0. 0. 0. 0. 0. 0. 0. 0. 0. 0. 0. 0. 0. 0. 0. 0. 0. 0. 0. 0.\n",
      " 0. 0. 0. 0. 0. 0. 0. 0. 0. 0. 0. 0. 0. 0. 0. 0. 0. 0. 0. 0. 0. 0. 0. 0.\n",
      " 0. 0. 0. 0. 0. 0. 0. 0. 0. 0. 0. 0. 0. 0. 0. 0. 0. 0. 0. 0. 0. 0. 0. 0.\n",
      " 0. 0. 0. 0. 0. 0. 0. 0. 0. 0. 0. 0. 0. 0. 0. 0. 0. 0. 0. 0. 0. 0. 0. 0.\n",
      " 0. 0. 0. 0.]\n"
     ]
    }
   ],
   "source": [
    "print (np.dot(model.wv.__getitem__('dog'), model.wv.__getitem__('cat')))\n",
    "print (np.dot(model.wv.__getitem__('a'), model.wv.__getitem__('cat')))\n",
    "print (np.dot(model.wv.__getitem__('a'), model.wv.__getitem__('the')))\n",
    "print (np.dot(model.wv.__getitem__('good'), model.wv.__getitem__('bad')))\n",
    "print (np.dot(model.wv.__getitem__('a'), model.wv.__getitem__('bad')))\n",
    "print (np.zeros((100)))\n"
   ]
  },
  {
   "cell_type": "code",
   "execution_count": 8,
   "metadata": {},
   "outputs": [],
   "source": [
    "n_dim = 50\n",
    "def w2v(text, model):\n",
    "    text_v = []\n",
    "    for line in text:\n",
    "        line_v = []\n",
    "        for word in line:\n",
    "            try:\n",
    "                line_v.append(model[word])\n",
    "            except:\n",
    "                line_v.append(np.zeros(n_dim))\n",
    "                    \n",
    "        text_v.append(line_v)\n",
    "    return text_v\n",
    "            "
   ]
  },
  {
   "cell_type": "code",
   "execution_count": 9,
   "metadata": {},
   "outputs": [
    {
     "name": "stderr",
     "output_type": "stream",
     "text": [
      "c:\\users\\qyl\\appdata\\local\\programs\\python\\python37\\lib\\site-packages\\ipykernel_launcher.py:8: DeprecationWarning: Call to deprecated `__getitem__` (Method will be removed in 4.0.0, use self.wv.__getitem__() instead).\n",
      "  \n"
     ]
    }
   ],
   "source": [
    "vec_val = w2v(val_text, model)\n",
    "vec_train = w2v(train_text, model)\n",
    "vec_test = w2v(test_text, model)\n"
   ]
  },
  {
   "cell_type": "code",
   "execution_count": 10,
   "metadata": {},
   "outputs": [
    {
     "name": "stdout",
     "output_type": "stream",
     "text": [
      "643\n",
      "253909\n",
      "697\n",
      "60\n",
      "60\n",
      "60\n"
     ]
    }
   ],
   "source": [
    "print (len(vec_val))\n",
    "print (len(vec_train))\n",
    "print (len(vec_test))\n",
    "\n",
    "print (max([len(x) for x in vec_val]))\n",
    "print (max([len(x) for x in vec_train]))\n",
    "print (max([len(x) for x in vec_test]))"
   ]
  },
  {
   "cell_type": "code",
   "execution_count": 12,
   "metadata": {},
   "outputs": [
    {
     "name": "stdout",
     "output_type": "stream",
     "text": [
      "(253909, 60, 50)\n"
     ]
    }
   ],
   "source": [
    "def copy_2_matrix(vec_list):\n",
    "    matrix = np.zeros((len(vec_list), 60, n_dim))\n",
    "    for i in range(len(vec_list)):\n",
    "        matrix[i, :len(vec_list[i])]  = np.array(vec_list[i])  \n",
    "    return matrix\n",
    "\n",
    "data_train = copy_2_matrix(vec_train)\n",
    "data_val = copy_2_matrix(vec_val)\n",
    "data_test = copy_2_matrix(vec_test)\n",
    "print(data_train.shape)"
   ]
  },
  {
   "cell_type": "code",
   "execution_count": 13,
   "metadata": {},
   "outputs": [],
   "source": [
    "np.save('data_train.npy', data_train)\n",
    "np.save('data_test.npy', data_test)\n",
    "np.save('data_val.npy', data_val)"
   ]
  },
  {
   "cell_type": "code",
   "execution_count": 16,
   "metadata": {},
   "outputs": [
    {
     "data": {
      "text/plain": [
       "array(['Social sciences and society', 'Sports and recreation',\n",
       "       'Social sciences and society', ..., 'Natural sciences',\n",
       "       'Art and architecture', 'Warfare'], dtype='<U27')"
      ]
     },
     "execution_count": 16,
     "metadata": {},
     "output_type": "execute_result"
    }
   ],
   "source": [
    "train_lab = np.array(train_lab)\n",
    "test_lab = np.array(test_lab)\n",
    "val_lab = np.array(val_lab)\n",
    "train_lab"
   ]
  },
  {
   "cell_type": "code",
   "execution_count": 18,
   "metadata": {},
   "outputs": [],
   "source": [
    "np.save('D:/Courses/11747/label_train.npy', train_lab)\n",
    "np.save('D:/Courses/11747/label_test.npy', test_lab)\n",
    "np.save('D:/Courses/11747/label_val.npy', val_lab)"
   ]
  },
  {
   "cell_type": "code",
   "execution_count": null,
   "metadata": {},
   "outputs": [],
   "source": []
  }
 ],
 "metadata": {
  "kernelspec": {
   "display_name": "Python 3",
   "language": "python",
   "name": "python3"
  },
  "language_info": {
   "codemirror_mode": {
    "name": "ipython",
    "version": 3
   },
   "file_extension": ".py",
   "mimetype": "text/x-python",
   "name": "python",
   "nbconvert_exporter": "python",
   "pygments_lexer": "ipython3",
   "version": "3.7.2"
  }
 },
 "nbformat": 4,
 "nbformat_minor": 2
}
